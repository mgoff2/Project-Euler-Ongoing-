{
 "cells": [
  {
   "cell_type": "markdown",
   "id": "8d8f102a",
   "metadata": {},
   "source": [
    "Project Euler: Problem 1\n",
    "\n",
    "Problem: \n",
    "If we list all the natural numbers below 10 that are multiples of 3 or 5, we get 3, 5, 6 and 9. The sum of these multiples is 23.\n",
    "\n",
    "Find the sum of all the multiples of 3 or 5 below 1000."
   ]
  },
  {
   "cell_type": "markdown",
   "id": "69f1d607",
   "metadata": {},
   "source": [
    "The simplest way to solve this is with a list comprehension, as follows. But this is so dull and redundant it hardly seems worth it."
   ]
  },
  {
   "cell_type": "code",
   "execution_count": 2,
   "id": "6710f851",
   "metadata": {},
   "outputs": [
    {
     "data": {
      "text/plain": [
       "233168"
      ]
     },
     "execution_count": 2,
     "metadata": {},
     "output_type": "execute_result"
    }
   ],
   "source": [
    "def list_solution():\n",
    "\n",
    "    return (sum([i for i in range(1000) if i % 3 == 0 or i % 5 ==0]))\n",
    "list_solution()"
   ]
  },
  {
   "cell_type": "code",
   "execution_count": null,
   "id": "80ac8917",
   "metadata": {},
   "outputs": [],
   "source": [
    "def multiples3(x):\n",
    "    return {i for i in range(x) if i % 3 == 0}\n",
    "def multiples5(x):\n",
    "    return {i for i in range(x) if i % 5 == 0}\n",
    "\n",
    "def PE_1_Final(x):\n",
    "    a = multiples3(x)\n",
    "    b = multiples5(x)\n",
    "    c= sum(set.union(a,b))\n",
    "    return c"
   ]
  },
  {
   "cell_type": "markdown",
   "id": "fb3c3668",
   "metadata": {},
   "source": [
    "This is the finalized version that is cleanest^^"
   ]
  },
  {
   "cell_type": "code",
   "execution_count": 46,
   "id": "804108ca",
   "metadata": {},
   "outputs": [],
   "source": [
    "def multiples3(x):\n",
    "    return {i for i in range(x) if i % 3 == 0}\n",
    "def multiples5(x):\n",
    "    return {i for i in range(x) if i % 5 == 0}\n",
    "\n",
    "def P_Euler_1_v1(x): \n",
    "    a = multiples3(x)\n",
    "    b = multiples5(x)\n",
    "    c = set.intersection(a, b)\n",
    "    d = sum(c)\n",
    "    return d\n",
    "\n",
    "\n",
    "def multiples3_5(x):\n",
    "    return [i for i in range(x) if i % 3 == 0], [i for i in range(x) if i % 5 == 0]\n",
    "\n",
    "def P_Euler_1_v2(x):\n",
    "    a = multiples3_5(x)\n",
    "    return sum(a[0]) + sum(a[1])\n",
    "    "
   ]
  },
  {
   "cell_type": "code",
   "execution_count": 47,
   "id": "96f6d43a",
   "metadata": {},
   "outputs": [
    {
     "name": "stdout",
     "output_type": "stream",
     "text": [
      "33165\n"
     ]
    }
   ],
   "source": [
    "print(P_Euler_1_v1(1000))"
   ]
  },
  {
   "cell_type": "code",
   "execution_count": 48,
   "id": "f473254f",
   "metadata": {},
   "outputs": [
    {
     "name": "stdout",
     "output_type": "stream",
     "text": [
      "266333\n"
     ]
    }
   ],
   "source": [
    "print(P_Euler_1_v2(1000)) #This is wrong because it is double-counting multiples of 3 and 5; it's a hard-join, replicating\n",
    "                          #joint values. "
   ]
  },
  {
   "cell_type": "code",
   "execution_count": 3,
   "id": "1d70004b",
   "metadata": {},
   "outputs": [],
   "source": [
    "def multiples3(x):\n",
    "    return {i for i in range(x) if i % 3 == 0}\n",
    "def multiples5(x):\n",
    "    return {i for i in range(x) if i % 5 == 0}\n",
    "\n",
    "def P_Euler_1_v3(x): \n",
    "    a = multiples3(x)\n",
    "    b = multiples5(x)\n",
    "    c = set.union(a, b)\n",
    "    d = sum(c)\n",
    "    return d"
   ]
  },
  {
   "cell_type": "code",
   "execution_count": 50,
   "id": "8d24c2c2",
   "metadata": {},
   "outputs": [
    {
     "data": {
      "text/plain": [
       "233168"
      ]
     },
     "execution_count": 50,
     "metadata": {},
     "output_type": "execute_result"
    }
   ],
   "source": [
    "P_Euler_1_v3(1000) #This version is correct. The above version finds the set intersection;\n",
    "                   #The correct version is the union"
   ]
  },
  {
   "cell_type": "code",
   "execution_count": 4,
   "id": "3542b518",
   "metadata": {},
   "outputs": [],
   "source": [
    "def test(x):\n",
    "    a = multiples3(x)\n",
    "    b = multiples5(x)\n",
    "    c= sum(set.union(a,b))\n",
    "    return c"
   ]
  },
  {
   "cell_type": "code",
   "execution_count": 5,
   "id": "a7de9de7",
   "metadata": {},
   "outputs": [
    {
     "data": {
      "text/plain": [
       "233168"
      ]
     },
     "execution_count": 5,
     "metadata": {},
     "output_type": "execute_result"
    }
   ],
   "source": [
    "test(1000)"
   ]
  },
  {
   "cell_type": "code",
   "execution_count": 6,
   "id": "ec510953",
   "metadata": {},
   "outputs": [],
   "source": [
    "def test2(x):\n",
    "    a, b = multiples3(x), multiples5(x)\n",
    "    c = sum(set.union(a,b))\n",
    "    return c"
   ]
  },
  {
   "cell_type": "code",
   "execution_count": 7,
   "id": "48fd18ca",
   "metadata": {},
   "outputs": [
    {
     "data": {
      "text/plain": [
       "233168"
      ]
     },
     "execution_count": 7,
     "metadata": {},
     "output_type": "execute_result"
    }
   ],
   "source": [
    "test2(1000)"
   ]
  }
 ],
 "metadata": {
  "kernelspec": {
   "display_name": "Python 3 (ipykernel)",
   "language": "python",
   "name": "python3"
  },
  "language_info": {
   "codemirror_mode": {
    "name": "ipython",
    "version": 3
   },
   "file_extension": ".py",
   "mimetype": "text/x-python",
   "name": "python",
   "nbconvert_exporter": "python",
   "pygments_lexer": "ipython3",
   "version": "3.9.10"
  }
 },
 "nbformat": 4,
 "nbformat_minor": 5
}
