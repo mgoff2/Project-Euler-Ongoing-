{
 "cells": [
  {
   "cell_type": "markdown",
   "id": "f5d4484e",
   "metadata": {},
   "source": [
    "Problem: \n",
    "\n",
    "2**15 = 32768 and the sum of its digits is 3 + 2 + 7 + 6 + 8 = 26.\n",
    "\n",
    "What is the sum of the digits of the number 2**1000?"
   ]
  },
  {
   "cell_type": "markdown",
   "id": "15039294",
   "metadata": {},
   "source": [
    "Commentary: the trick to this guy is that parsing the really long number that results for individual digits is a big pain. See below -- the whole thing is 302 digits long. By converting it into a string, though, the isdigit() function breaks it into separate parts. \n",
    "Reconverting to integer and taking sum generates the solution. "
   ]
  },
  {
   "cell_type": "code",
   "execution_count": 17,
   "id": "f3578906",
   "metadata": {},
   "outputs": [
    {
     "name": "stdout",
     "output_type": "stream",
     "text": [
      "301\n"
     ]
    }
   ],
   "source": [
    "example = 2**1000\n",
    "count = 0\n",
    "while example > 10:\n",
    "    example = example / 10\n",
    "    count+=1\n",
    "    \n",
    "print(count)"
   ]
  },
  {
   "cell_type": "code",
   "execution_count": 10,
   "id": "1fa524bb",
   "metadata": {},
   "outputs": [],
   "source": [
    "def P_E_16():\n",
    "    \n",
    "    a = 2**1000\n",
    "    alpha = str(a)\n",
    "    \n",
    "    sumlist = []\n",
    "    trials = [int(i) for i in alpha if i.isdigit()]\n",
    "    \n",
    "    sum = 0\n",
    "    for i in trials: \n",
    "        sum = sum+i\n",
    "    \n",
    "    return sum"
   ]
  },
  {
   "cell_type": "code",
   "execution_count": 11,
   "id": "7e00c944",
   "metadata": {},
   "outputs": [
    {
     "data": {
      "text/plain": [
       "1366"
      ]
     },
     "execution_count": 11,
     "metadata": {},
     "output_type": "execute_result"
    }
   ],
   "source": [
    "P_E_16()"
   ]
  }
 ],
 "metadata": {
  "kernelspec": {
   "display_name": "Python 3 (ipykernel)",
   "language": "python",
   "name": "python3"
  },
  "language_info": {
   "codemirror_mode": {
    "name": "ipython",
    "version": 3
   },
   "file_extension": ".py",
   "mimetype": "text/x-python",
   "name": "python",
   "nbconvert_exporter": "python",
   "pygments_lexer": "ipython3",
   "version": "3.9.10"
  }
 },
 "nbformat": 4,
 "nbformat_minor": 5
}
