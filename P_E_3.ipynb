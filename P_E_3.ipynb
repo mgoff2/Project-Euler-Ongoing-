{
 "cells": [
  {
   "cell_type": "code",
   "execution_count": 37,
   "id": "28b90836",
   "metadata": {},
   "outputs": [
    {
     "data": {
      "text/plain": [
       "6857"
      ]
     },
     "execution_count": 37,
     "metadata": {},
     "output_type": "execute_result"
    }
   ],
   "source": [
    "import math\n",
    "\n",
    "def PrimeYN(x):\n",
    "    Prime = True\n",
    "    div1 = 2\n",
    "    for i in range(div1, round(math.sqrt(x))):\n",
    "        if x % i == 0:\n",
    "            Prime = False\n",
    "            break\n",
    "        else:\n",
    "            continue\n",
    "    \n",
    "    return Prime\n",
    "\n",
    "def primefactors(b):\n",
    "    factorlist = []\n",
    "    for i in range(1, round(math.sqrt(b))):\n",
    "        if b % i == 0:\n",
    "            factorlist.append(i)\n",
    "    return factorlist\n",
    "            \n",
    "def P_E_3(x):\n",
    "    return max([i for i in primefactors(x) if PrimeYN(i)])\n",
    "        \n",
    "P_E_3(600851475143)"
   ]
  }
 ],
 "metadata": {
  "kernelspec": {
   "display_name": "Python 3 (ipykernel)",
   "language": "python",
   "name": "python3"
  },
  "language_info": {
   "codemirror_mode": {
    "name": "ipython",
    "version": 3
   },
   "file_extension": ".py",
   "mimetype": "text/x-python",
   "name": "python",
   "nbconvert_exporter": "python",
   "pygments_lexer": "ipython3",
   "version": "3.9.10"
  }
 },
 "nbformat": 4,
 "nbformat_minor": 5
}
