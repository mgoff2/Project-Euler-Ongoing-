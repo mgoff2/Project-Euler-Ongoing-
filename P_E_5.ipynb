{
 "cells": [
  {
   "cell_type": "markdown",
   "id": "9b9fb3d4",
   "metadata": {},
   "source": [
    "Project Euler: Problem 5: \n",
    "\n",
    "2520 is the smallest number that can be divided by each of the numbers from 1 to 10 without any remainder.\n",
    "\n",
    "What is the smallest positive number that is evenly divisible by all of the numbers from 1 to 20?"
   ]
  },
  {
   "cell_type": "code",
   "execution_count": null,
   "id": "1c103a17",
   "metadata": {},
   "outputs": [],
   "source": [
    "#This should work, in principle, but is computationally expensive: \n",
    "def P_E_5_alt():\n",
    "    i4 = [x for x in range(3, 21)]\n",
    "    g = 2520\n",
    "    while not all(g % x == 0 for x in i4):\n",
    "        g +=1\n",
    "    return g"
   ]
  },
  {
   "cell_type": "code",
   "execution_count": 6,
   "id": "aedcabe4",
   "metadata": {},
   "outputs": [],
   "source": [
    "#Likewise, this should work, but it's computationally expensive. \n",
    "def P_E_5():\n",
    "    testcase = 2\n",
    "    intialval = 2520\n",
    "    notfound = True\n",
    "    count = 0\n",
    "    while notfound: \n",
    "        if intialval % testcase == 0 and count <=20:\n",
    "            testcase+= 1\n",
    "            count +=1\n",
    "        elif count == 20:\n",
    "            notfound = False\n",
    "            break\n",
    "        else: \n",
    "            testcase = 2\n",
    "            count = 0\n",
    "            intialval+=1\n",
    "\n",
    "    return initialval"
   ]
  },
  {
   "cell_type": "code",
   "execution_count": null,
   "id": "ac07b57c",
   "metadata": {},
   "outputs": [],
   "source": [
    "#In practice, I just did this: \n",
    "a = 19*17*13*11*7*3*5*4*6*2\n",
    "print(a)"
   ]
  },
  {
   "cell_type": "markdown",
   "id": "ab657141",
   "metadata": {},
   "source": [
    "The logic is simple: 8, 10, 12, 14, 16, 18, and 20 factor down, so whatever you get with the remaining prime factors is the answer. This is easier than programming it. "
   ]
  }
 ],
 "metadata": {
  "kernelspec": {
   "display_name": "Python 3 (ipykernel)",
   "language": "python",
   "name": "python3"
  },
  "language_info": {
   "codemirror_mode": {
    "name": "ipython",
    "version": 3
   },
   "file_extension": ".py",
   "mimetype": "text/x-python",
   "name": "python",
   "nbconvert_exporter": "python",
   "pygments_lexer": "ipython3",
   "version": "3.9.10"
  }
 },
 "nbformat": 4,
 "nbformat_minor": 5
}
