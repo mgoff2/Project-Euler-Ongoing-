{
 "cells": [
  {
   "cell_type": "code",
   "execution_count": 7,
   "id": "8504a347",
   "metadata": {},
   "outputs": [
    {
     "name": "stdout",
     "output_type": "stream",
     "text": [
      "760\n",
      "720\n",
      "680\n",
      "640\n",
      "600\n",
      "560\n",
      "520\n",
      "480\n",
      "440\n",
      "400\n",
      "360\n",
      "320\n",
      "280\n",
      "240\n",
      "200\n",
      "160\n",
      "120\n",
      "80\n",
      "40\n",
      "7602\n"
     ]
    }
   ],
   "source": [
    "routes = 2\n",
    "Two_n = 40\n",
    "\n",
    "for i in range(19, 0, -1):\n",
    "    add = Two_n*i\n",
    "    print(add)\n",
    "    routes = routes + add\n",
    "print(routes)"
   ]
  },
  {
   "cell_type": "code",
   "execution_count": 6,
   "id": "01de67ca",
   "metadata": {},
   "outputs": [
    {
     "name": "stdout",
     "output_type": "stream",
     "text": [
      "12\n",
      "6\n",
      "20\n"
     ]
    }
   ],
   "source": [
    "routes = 2\n",
    "Two_n = 6\n",
    "\n",
    "for i in range(2, 0, -1):\n",
    "    add = Two_n*i\n",
    "    print(add)\n",
    "    routes = routes + add\n",
    "print(routes)"
   ]
  },
  {
   "cell_type": "code",
   "execution_count": 13,
   "id": "5f4a96b2",
   "metadata": {},
   "outputs": [
    {
     "name": "stdout",
     "output_type": "stream",
     "text": [
      "137846528820.0\n"
     ]
    }
   ],
   "source": [
    "import math\n",
    "\n",
    "a = math.factorial(40)\n",
    "b = math.factorial(20)\n",
    "\n",
    "print(a/b**2)"
   ]
  },
  {
   "cell_type": "markdown",
   "id": "291f099f",
   "metadata": {},
   "source": [
    "So, I had thought of trying this, but thought the outputs were way too big to be realistic. \n",
    "\n",
    "Hence my above strategy trying to use some kind of \"solution set\" tree diagram approach. \n",
    "\n",
    "Ugh, Mathigon technically deserves the credit for this one, since I just finally capitulated the math. The program isn't really even an algorithm."
   ]
  }
 ],
 "metadata": {
  "kernelspec": {
   "display_name": "Python 3 (ipykernel)",
   "language": "python",
   "name": "python3"
  },
  "language_info": {
   "codemirror_mode": {
    "name": "ipython",
    "version": 3
   },
   "file_extension": ".py",
   "mimetype": "text/x-python",
   "name": "python",
   "nbconvert_exporter": "python",
   "pygments_lexer": "ipython3",
   "version": "3.10.4"
  }
 },
 "nbformat": 4,
 "nbformat_minor": 5
}
